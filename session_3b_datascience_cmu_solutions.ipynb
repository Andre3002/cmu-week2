{
 "cells": [
  {
   "cell_type": "markdown",
   "metadata": {},
   "source": [
    "# Foundations of Data Science - CMU Portugal Academy\n",
    "\n",
    "> \n",
    "> Instructors:\n",
    ">   - David Semedo (df.semedo@fct.unl.pt)\n",
    ">   - Rafael Ferreira (rah.ferreira@fct.unl.pt)\n",
    ">"
   ]
  },
  {
   "cell_type": "code",
   "execution_count": 49,
   "metadata": {},
   "outputs": [],
   "source": [
    "import numpy as np\n",
    "import pandas as pd"
   ]
  },
  {
   "cell_type": "markdown",
   "metadata": {},
   "source": [
    "\n",
    "## Reference dataset - Mental Illness ([Link](https://www.kaggle.com/datasets/imtkaggleteam/mental-health))\n",
    "\n",
    "We will take the \"Mental Health\" dataset as reference, to introduce a set of Pandas operations.\n",
    "\n",
    "**Motivation**:\n",
    "\n",
    "* Mental health is an essential part of people’s lives and society. Poor mental health affects our well-being, our ability to work, and our relationships with friends, family, and community.\n",
    "\n",
    "* Mental health conditions are not uncommon. Hundreds of millions suffer from them yearly, and many more do over their lifetimes. It’s estimated that 1 in 3 women and 1 in 5 men will experience major depression in their lives. Other conditions, such as schizophrenia and bipolar disorder, are less common but still have a large impact on people’s lives.\n"
   ]
  },
  {
   "cell_type": "code",
   "execution_count": 50,
   "metadata": {},
   "outputs": [],
   "source": [
    "dataset_path = \"datasets/1- mental-illnesses-prevalence.csv\"\n",
    "df = pd.read_csv(dataset_path)"
   ]
  },
  {
   "cell_type": "code",
   "execution_count": 51,
   "metadata": {},
   "outputs": [
    {
     "data": {
      "text/html": [
       "<div>\n",
       "<style scoped>\n",
       "    .dataframe tbody tr th:only-of-type {\n",
       "        vertical-align: middle;\n",
       "    }\n",
       "\n",
       "    .dataframe tbody tr th {\n",
       "        vertical-align: top;\n",
       "    }\n",
       "\n",
       "    .dataframe thead th {\n",
       "        text-align: right;\n",
       "    }\n",
       "</style>\n",
       "<table border=\"1\" class=\"dataframe\">\n",
       "  <thead>\n",
       "    <tr style=\"text-align: right;\">\n",
       "      <th></th>\n",
       "      <th>Entity</th>\n",
       "      <th>Code</th>\n",
       "      <th>Year</th>\n",
       "      <th>Schizophrenia disorders (share of population) - Sex: Both - Age: Age-standardized</th>\n",
       "      <th>Depressive disorders (share of population) - Sex: Both - Age: Age-standardized</th>\n",
       "      <th>Anxiety disorders (share of population) - Sex: Both - Age: Age-standardized</th>\n",
       "      <th>Bipolar disorders (share of population) - Sex: Both - Age: Age-standardized</th>\n",
       "      <th>Eating disorders (share of population) - Sex: Both - Age: Age-standardized</th>\n",
       "    </tr>\n",
       "  </thead>\n",
       "  <tbody>\n",
       "    <tr>\n",
       "      <th>0</th>\n",
       "      <td>Afghanistan</td>\n",
       "      <td>AFG</td>\n",
       "      <td>1990</td>\n",
       "      <td>0.223206</td>\n",
       "      <td>4.996118</td>\n",
       "      <td>4.713314</td>\n",
       "      <td>0.703023</td>\n",
       "      <td>0.127700</td>\n",
       "    </tr>\n",
       "    <tr>\n",
       "      <th>1</th>\n",
       "      <td>Afghanistan</td>\n",
       "      <td>AFG</td>\n",
       "      <td>1991</td>\n",
       "      <td>0.222454</td>\n",
       "      <td>4.989290</td>\n",
       "      <td>4.702100</td>\n",
       "      <td>0.702069</td>\n",
       "      <td>0.123256</td>\n",
       "    </tr>\n",
       "    <tr>\n",
       "      <th>2</th>\n",
       "      <td>Afghanistan</td>\n",
       "      <td>AFG</td>\n",
       "      <td>1992</td>\n",
       "      <td>0.221751</td>\n",
       "      <td>4.981346</td>\n",
       "      <td>4.683743</td>\n",
       "      <td>0.700792</td>\n",
       "      <td>0.118844</td>\n",
       "    </tr>\n",
       "    <tr>\n",
       "      <th>3</th>\n",
       "      <td>Afghanistan</td>\n",
       "      <td>AFG</td>\n",
       "      <td>1993</td>\n",
       "      <td>0.220987</td>\n",
       "      <td>4.976958</td>\n",
       "      <td>4.673549</td>\n",
       "      <td>0.700087</td>\n",
       "      <td>0.115089</td>\n",
       "    </tr>\n",
       "    <tr>\n",
       "      <th>4</th>\n",
       "      <td>Afghanistan</td>\n",
       "      <td>AFG</td>\n",
       "      <td>1994</td>\n",
       "      <td>0.220183</td>\n",
       "      <td>4.977782</td>\n",
       "      <td>4.670810</td>\n",
       "      <td>0.699898</td>\n",
       "      <td>0.111815</td>\n",
       "    </tr>\n",
       "    <tr>\n",
       "      <th>...</th>\n",
       "      <td>...</td>\n",
       "      <td>...</td>\n",
       "      <td>...</td>\n",
       "      <td>...</td>\n",
       "      <td>...</td>\n",
       "      <td>...</td>\n",
       "      <td>...</td>\n",
       "      <td>...</td>\n",
       "    </tr>\n",
       "    <tr>\n",
       "      <th>6415</th>\n",
       "      <td>Zimbabwe</td>\n",
       "      <td>ZWE</td>\n",
       "      <td>2015</td>\n",
       "      <td>0.201042</td>\n",
       "      <td>3.407624</td>\n",
       "      <td>3.184012</td>\n",
       "      <td>0.538596</td>\n",
       "      <td>0.095652</td>\n",
       "    </tr>\n",
       "    <tr>\n",
       "      <th>6416</th>\n",
       "      <td>Zimbabwe</td>\n",
       "      <td>ZWE</td>\n",
       "      <td>2016</td>\n",
       "      <td>0.201319</td>\n",
       "      <td>3.410755</td>\n",
       "      <td>3.187148</td>\n",
       "      <td>0.538593</td>\n",
       "      <td>0.096662</td>\n",
       "    </tr>\n",
       "    <tr>\n",
       "      <th>6417</th>\n",
       "      <td>Zimbabwe</td>\n",
       "      <td>ZWE</td>\n",
       "      <td>2017</td>\n",
       "      <td>0.201639</td>\n",
       "      <td>3.411965</td>\n",
       "      <td>3.188418</td>\n",
       "      <td>0.538589</td>\n",
       "      <td>0.097330</td>\n",
       "    </tr>\n",
       "    <tr>\n",
       "      <th>6418</th>\n",
       "      <td>Zimbabwe</td>\n",
       "      <td>ZWE</td>\n",
       "      <td>2018</td>\n",
       "      <td>0.201976</td>\n",
       "      <td>3.406929</td>\n",
       "      <td>3.172111</td>\n",
       "      <td>0.538585</td>\n",
       "      <td>0.097909</td>\n",
       "    </tr>\n",
       "    <tr>\n",
       "      <th>6419</th>\n",
       "      <td>Zimbabwe</td>\n",
       "      <td>ZWE</td>\n",
       "      <td>2019</td>\n",
       "      <td>0.202482</td>\n",
       "      <td>3.395476</td>\n",
       "      <td>3.137017</td>\n",
       "      <td>0.538580</td>\n",
       "      <td>0.098295</td>\n",
       "    </tr>\n",
       "  </tbody>\n",
       "</table>\n",
       "<p>6420 rows × 8 columns</p>\n",
       "</div>"
      ],
      "text/plain": [
       "           Entity Code  Year  \\\n",
       "0     Afghanistan  AFG  1990   \n",
       "1     Afghanistan  AFG  1991   \n",
       "2     Afghanistan  AFG  1992   \n",
       "3     Afghanistan  AFG  1993   \n",
       "4     Afghanistan  AFG  1994   \n",
       "...           ...  ...   ...   \n",
       "6415     Zimbabwe  ZWE  2015   \n",
       "6416     Zimbabwe  ZWE  2016   \n",
       "6417     Zimbabwe  ZWE  2017   \n",
       "6418     Zimbabwe  ZWE  2018   \n",
       "6419     Zimbabwe  ZWE  2019   \n",
       "\n",
       "      Schizophrenia disorders (share of population) - Sex: Both - Age: Age-standardized  \\\n",
       "0                                              0.223206                                   \n",
       "1                                              0.222454                                   \n",
       "2                                              0.221751                                   \n",
       "3                                              0.220987                                   \n",
       "4                                              0.220183                                   \n",
       "...                                                 ...                                   \n",
       "6415                                           0.201042                                   \n",
       "6416                                           0.201319                                   \n",
       "6417                                           0.201639                                   \n",
       "6418                                           0.201976                                   \n",
       "6419                                           0.202482                                   \n",
       "\n",
       "      Depressive disorders (share of population) - Sex: Both - Age: Age-standardized  \\\n",
       "0                                              4.996118                                \n",
       "1                                              4.989290                                \n",
       "2                                              4.981346                                \n",
       "3                                              4.976958                                \n",
       "4                                              4.977782                                \n",
       "...                                                 ...                                \n",
       "6415                                           3.407624                                \n",
       "6416                                           3.410755                                \n",
       "6417                                           3.411965                                \n",
       "6418                                           3.406929                                \n",
       "6419                                           3.395476                                \n",
       "\n",
       "      Anxiety disorders (share of population) - Sex: Both - Age: Age-standardized  \\\n",
       "0                                              4.713314                             \n",
       "1                                              4.702100                             \n",
       "2                                              4.683743                             \n",
       "3                                              4.673549                             \n",
       "4                                              4.670810                             \n",
       "...                                                 ...                             \n",
       "6415                                           3.184012                             \n",
       "6416                                           3.187148                             \n",
       "6417                                           3.188418                             \n",
       "6418                                           3.172111                             \n",
       "6419                                           3.137017                             \n",
       "\n",
       "      Bipolar disorders (share of population) - Sex: Both - Age: Age-standardized  \\\n",
       "0                                              0.703023                             \n",
       "1                                              0.702069                             \n",
       "2                                              0.700792                             \n",
       "3                                              0.700087                             \n",
       "4                                              0.699898                             \n",
       "...                                                 ...                             \n",
       "6415                                           0.538596                             \n",
       "6416                                           0.538593                             \n",
       "6417                                           0.538589                             \n",
       "6418                                           0.538585                             \n",
       "6419                                           0.538580                             \n",
       "\n",
       "      Eating disorders (share of population) - Sex: Both - Age: Age-standardized  \n",
       "0                                              0.127700                           \n",
       "1                                              0.123256                           \n",
       "2                                              0.118844                           \n",
       "3                                              0.115089                           \n",
       "4                                              0.111815                           \n",
       "...                                                 ...                           \n",
       "6415                                           0.095652                           \n",
       "6416                                           0.096662                           \n",
       "6417                                           0.097330                           \n",
       "6418                                           0.097909                           \n",
       "6419                                           0.098295                           \n",
       "\n",
       "[6420 rows x 8 columns]"
      ]
     },
     "execution_count": 51,
     "metadata": {},
     "output_type": "execute_result"
    }
   ],
   "source": [
    "df"
   ]
  },
  {
   "cell_type": "markdown",
   "metadata": {},
   "source": [
    "### Obtain an overview and basic informations about the DataFrame"
   ]
  },
  {
   "cell_type": "code",
   "execution_count": 52,
   "metadata": {},
   "outputs": [
    {
     "name": "stdout",
     "output_type": "stream",
     "text": [
      "<class 'pandas.core.frame.DataFrame'>\n",
      "RangeIndex: 6420 entries, 0 to 6419\n",
      "Data columns (total 8 columns):\n",
      " #   Column                                                                             Non-Null Count  Dtype  \n",
      "---  ------                                                                             --------------  -----  \n",
      " 0   Entity                                                                             6420 non-null   object \n",
      " 1   Code                                                                               6150 non-null   object \n",
      " 2   Year                                                                               6420 non-null   int64  \n",
      " 3   Schizophrenia disorders (share of population) - Sex: Both - Age: Age-standardized  6420 non-null   float64\n",
      " 4   Depressive disorders (share of population) - Sex: Both - Age: Age-standardized     6420 non-null   float64\n",
      " 5   Anxiety disorders (share of population) - Sex: Both - Age: Age-standardized        6420 non-null   float64\n",
      " 6   Bipolar disorders (share of population) - Sex: Both - Age: Age-standardized        6420 non-null   float64\n",
      " 7   Eating disorders (share of population) - Sex: Both - Age: Age-standardized         6420 non-null   float64\n",
      "dtypes: float64(5), int64(1), object(2)\n",
      "memory usage: 401.4+ KB\n"
     ]
    }
   ],
   "source": [
    "df.info()"
   ]
  },
  {
   "cell_type": "code",
   "execution_count": 53,
   "metadata": {},
   "outputs": [
    {
     "data": {
      "text/html": [
       "<div>\n",
       "<style scoped>\n",
       "    .dataframe tbody tr th:only-of-type {\n",
       "        vertical-align: middle;\n",
       "    }\n",
       "\n",
       "    .dataframe tbody tr th {\n",
       "        vertical-align: top;\n",
       "    }\n",
       "\n",
       "    .dataframe thead th {\n",
       "        text-align: right;\n",
       "    }\n",
       "</style>\n",
       "<table border=\"1\" class=\"dataframe\">\n",
       "  <thead>\n",
       "    <tr style=\"text-align: right;\">\n",
       "      <th></th>\n",
       "      <th>Entity</th>\n",
       "      <th>Code</th>\n",
       "      <th>Year</th>\n",
       "      <th>Schizophrenia disorders (share of population) - Sex: Both - Age: Age-standardized</th>\n",
       "      <th>Depressive disorders (share of population) - Sex: Both - Age: Age-standardized</th>\n",
       "      <th>Anxiety disorders (share of population) - Sex: Both - Age: Age-standardized</th>\n",
       "      <th>Bipolar disorders (share of population) - Sex: Both - Age: Age-standardized</th>\n",
       "      <th>Eating disorders (share of population) - Sex: Both - Age: Age-standardized</th>\n",
       "    </tr>\n",
       "  </thead>\n",
       "  <tbody>\n",
       "    <tr>\n",
       "      <th>0</th>\n",
       "      <td>Afghanistan</td>\n",
       "      <td>AFG</td>\n",
       "      <td>1990</td>\n",
       "      <td>0.223206</td>\n",
       "      <td>4.996118</td>\n",
       "      <td>4.713314</td>\n",
       "      <td>0.703023</td>\n",
       "      <td>0.127700</td>\n",
       "    </tr>\n",
       "    <tr>\n",
       "      <th>1</th>\n",
       "      <td>Afghanistan</td>\n",
       "      <td>AFG</td>\n",
       "      <td>1991</td>\n",
       "      <td>0.222454</td>\n",
       "      <td>4.989290</td>\n",
       "      <td>4.702100</td>\n",
       "      <td>0.702069</td>\n",
       "      <td>0.123256</td>\n",
       "    </tr>\n",
       "    <tr>\n",
       "      <th>2</th>\n",
       "      <td>Afghanistan</td>\n",
       "      <td>AFG</td>\n",
       "      <td>1992</td>\n",
       "      <td>0.221751</td>\n",
       "      <td>4.981346</td>\n",
       "      <td>4.683743</td>\n",
       "      <td>0.700792</td>\n",
       "      <td>0.118844</td>\n",
       "    </tr>\n",
       "    <tr>\n",
       "      <th>3</th>\n",
       "      <td>Afghanistan</td>\n",
       "      <td>AFG</td>\n",
       "      <td>1993</td>\n",
       "      <td>0.220987</td>\n",
       "      <td>4.976958</td>\n",
       "      <td>4.673549</td>\n",
       "      <td>0.700087</td>\n",
       "      <td>0.115089</td>\n",
       "    </tr>\n",
       "    <tr>\n",
       "      <th>4</th>\n",
       "      <td>Afghanistan</td>\n",
       "      <td>AFG</td>\n",
       "      <td>1994</td>\n",
       "      <td>0.220183</td>\n",
       "      <td>4.977782</td>\n",
       "      <td>4.670810</td>\n",
       "      <td>0.699898</td>\n",
       "      <td>0.111815</td>\n",
       "    </tr>\n",
       "  </tbody>\n",
       "</table>\n",
       "</div>"
      ],
      "text/plain": [
       "        Entity Code  Year  \\\n",
       "0  Afghanistan  AFG  1990   \n",
       "1  Afghanistan  AFG  1991   \n",
       "2  Afghanistan  AFG  1992   \n",
       "3  Afghanistan  AFG  1993   \n",
       "4  Afghanistan  AFG  1994   \n",
       "\n",
       "   Schizophrenia disorders (share of population) - Sex: Both - Age: Age-standardized  \\\n",
       "0                                           0.223206                                   \n",
       "1                                           0.222454                                   \n",
       "2                                           0.221751                                   \n",
       "3                                           0.220987                                   \n",
       "4                                           0.220183                                   \n",
       "\n",
       "   Depressive disorders (share of population) - Sex: Both - Age: Age-standardized  \\\n",
       "0                                           4.996118                                \n",
       "1                                           4.989290                                \n",
       "2                                           4.981346                                \n",
       "3                                           4.976958                                \n",
       "4                                           4.977782                                \n",
       "\n",
       "   Anxiety disorders (share of population) - Sex: Both - Age: Age-standardized  \\\n",
       "0                                           4.713314                             \n",
       "1                                           4.702100                             \n",
       "2                                           4.683743                             \n",
       "3                                           4.673549                             \n",
       "4                                           4.670810                             \n",
       "\n",
       "   Bipolar disorders (share of population) - Sex: Both - Age: Age-standardized  \\\n",
       "0                                           0.703023                             \n",
       "1                                           0.702069                             \n",
       "2                                           0.700792                             \n",
       "3                                           0.700087                             \n",
       "4                                           0.699898                             \n",
       "\n",
       "   Eating disorders (share of population) - Sex: Both - Age: Age-standardized  \n",
       "0                                           0.127700                           \n",
       "1                                           0.123256                           \n",
       "2                                           0.118844                           \n",
       "3                                           0.115089                           \n",
       "4                                           0.111815                           "
      ]
     },
     "execution_count": 53,
     "metadata": {},
     "output_type": "execute_result"
    }
   ],
   "source": [
    "df.head() # Inspect the first 5. We can provide the size: df.head(20)"
   ]
  },
  {
   "cell_type": "code",
   "execution_count": 54,
   "metadata": {},
   "outputs": [
    {
     "data": {
      "text/plain": [
       "Index(['Entity', 'Code', 'Year',\n",
       "       'Schizophrenia disorders (share of population) - Sex: Both - Age: Age-standardized',\n",
       "       'Depressive disorders (share of population) - Sex: Both - Age: Age-standardized',\n",
       "       'Anxiety disorders (share of population) - Sex: Both - Age: Age-standardized',\n",
       "       'Bipolar disorders (share of population) - Sex: Both - Age: Age-standardized',\n",
       "       'Eating disorders (share of population) - Sex: Both - Age: Age-standardized'],\n",
       "      dtype='object')"
      ]
     },
     "execution_count": 54,
     "metadata": {},
     "output_type": "execute_result"
    }
   ],
   "source": [
    "df.columns"
   ]
  },
  {
   "cell_type": "markdown",
   "metadata": {},
   "source": [
    "#### Single column Inspection "
   ]
  },
  {
   "cell_type": "code",
   "execution_count": 55,
   "metadata": {},
   "outputs": [
    {
     "data": {
      "text/plain": [
       "0       1990\n",
       "1       1991\n",
       "2       1992\n",
       "3       1993\n",
       "4       1994\n",
       "        ... \n",
       "6415    2015\n",
       "6416    2016\n",
       "6417    2017\n",
       "6418    2018\n",
       "6419    2019\n",
       "Name: Year, Length: 6420, dtype: int64"
      ]
     },
     "execution_count": 55,
     "metadata": {},
     "output_type": "execute_result"
    }
   ],
   "source": [
    "df[\"Year\"]"
   ]
  },
  {
   "cell_type": "markdown",
   "metadata": {},
   "source": [
    "The result of the operation above, is a Pandas Series:"
   ]
  },
  {
   "cell_type": "code",
   "execution_count": 56,
   "metadata": {},
   "outputs": [
    {
     "data": {
      "text/plain": [
       "pandas.core.series.Series"
      ]
     },
     "execution_count": 56,
     "metadata": {},
     "output_type": "execute_result"
    }
   ],
   "source": [
    "type(df[\"Year\"])"
   ]
  },
  {
   "cell_type": "markdown",
   "metadata": {},
   "source": [
    "### Removing columns\n",
    "\n",
    "We can remove columns with the `DataFrame.drop()` function ([docs]([docs](https://pandas.pydata.org/docs/reference/api/pandas.DataFrame.drop.html))). There are multiple ways:\n",
    "* By specifying the axis index (0 for rows, 1 for columns): `df.drop(<column name string>, axis=1)`\n",
    "* By using the keyword argument `columns`: `df.drop(columns=<list of columns>)`\n",
    "\n",
    "\n",
    "Keep in mind that the drop operation, by default, is not an \"inplace\" operation, meaning that it returns a modified version of the original dataframe. "
   ]
  },
  {
   "cell_type": "code",
   "execution_count": 57,
   "metadata": {},
   "outputs": [
    {
     "name": "stdout",
     "output_type": "stream",
     "text": [
      "Num columns: 8\n",
      "Num columns after drop: 8\n"
     ]
    }
   ],
   "source": [
    "print(f\"Num columns: {len(df.columns)}\")\n",
    "df.drop(columns=[\"Code\"])  # Equivalent to df.drop(\"Code\", axis=1)\n",
    "print(f\"Num columns after drop: {len(df.columns)}\")\n"
   ]
  },
  {
   "cell_type": "code",
   "execution_count": 58,
   "metadata": {},
   "outputs": [
    {
     "name": "stdout",
     "output_type": "stream",
     "text": [
      "Num columns after drop: 7\n"
     ]
    }
   ],
   "source": [
    "# Set the inplace argument to True, or assign the returned DataFrame to the original variable:\n",
    "df.drop(columns=[\"Code\"], inplace=True)\n",
    "# or\n",
    "#df = df.drop(columns=[\"Code\"])\n",
    "print(f\"Num columns after drop: {len(df.columns)}\")\n"
   ]
  },
  {
   "cell_type": "markdown",
   "metadata": {},
   "source": [
    "### Quantitative Variables: Obtain descriptive statistics from a single column."
   ]
  },
  {
   "cell_type": "code",
   "execution_count": 59,
   "metadata": {},
   "outputs": [
    {
     "data": {
      "text/plain": [
       "count    6420.000000\n",
       "mean     2004.500000\n",
       "std         8.656116\n",
       "min      1990.000000\n",
       "25%      1997.000000\n",
       "50%      2004.500000\n",
       "75%      2012.000000\n",
       "max      2019.000000\n",
       "Name: Year, dtype: float64"
      ]
     },
     "execution_count": 59,
     "metadata": {},
     "output_type": "execute_result"
    }
   ],
   "source": [
    "df[\"Year\"].describe()"
   ]
  },
  {
   "cell_type": "markdown",
   "metadata": {},
   "source": [
    "Find the maximum and minimum values of a given column:"
   ]
  },
  {
   "cell_type": "code",
   "execution_count": 60,
   "metadata": {},
   "outputs": [
    {
     "data": {
      "text/plain": [
       "(2019, 1990)"
      ]
     },
     "execution_count": 60,
     "metadata": {},
     "output_type": "execute_result"
    }
   ],
   "source": [
    "df[\"Year\"].max(), df[\"Year\"].min()"
   ]
  },
  {
   "cell_type": "markdown",
   "metadata": {},
   "source": [
    "### Categorical Values\n",
    "\n",
    "For categorical values, we might want to know the domain size (i.e. how many unique values)."
   ]
  },
  {
   "cell_type": "code",
   "execution_count": 61,
   "metadata": {},
   "outputs": [
    {
     "data": {
      "text/plain": [
       "array(['Afghanistan', 'Africa (IHME GBD)', 'Albania', 'Algeria',\n",
       "       'America (IHME GBD)', 'American Samoa', 'Andorra', 'Angola',\n",
       "       'Antigua and Barbuda', 'Argentina', 'Armenia', 'Asia (IHME GBD)',\n",
       "       'Australia', 'Austria', 'Azerbaijan', 'Bahamas', 'Bahrain',\n",
       "       'Bangladesh', 'Barbados', 'Belarus', 'Belgium', 'Belize', 'Benin',\n",
       "       'Bermuda', 'Bhutan', 'Bolivia', 'Bosnia and Herzegovina',\n",
       "       'Botswana', 'Brazil', 'Brunei', 'Bulgaria', 'Burkina Faso',\n",
       "       'Burundi', 'Cambodia', 'Cameroon', 'Canada', 'Cape Verde',\n",
       "       'Central African Republic', 'Chad', 'Chile', 'China', 'Colombia',\n",
       "       'Comoros', 'Congo', 'Cook Islands', 'Costa Rica', \"Cote d'Ivoire\",\n",
       "       'Croatia', 'Cuba', 'Cyprus', 'Czechia',\n",
       "       'Democratic Republic of Congo', 'Denmark', 'Djibouti', 'Dominica',\n",
       "       'Dominican Republic', 'East Timor', 'Ecuador', 'Egypt',\n",
       "       'El Salvador', 'Equatorial Guinea', 'Eritrea', 'Estonia',\n",
       "       'Eswatini', 'Ethiopia', 'Europe (IHME GBD)', 'European Union (27)',\n",
       "       'Fiji', 'Finland', 'France', 'Gabon', 'Gambia', 'Georgia',\n",
       "       'Germany', 'Ghana', 'Greece', 'Greenland', 'Grenada', 'Guam',\n",
       "       'Guatemala', 'Guinea', 'Guinea-Bissau', 'Guyana', 'Haiti',\n",
       "       'High-income countries', 'Honduras', 'Hungary', 'Iceland', 'India',\n",
       "       'Indonesia', 'Iran', 'Iraq', 'Ireland', 'Israel', 'Italy',\n",
       "       'Jamaica', 'Japan', 'Jordan', 'Kazakhstan', 'Kenya', 'Kiribati',\n",
       "       'Kuwait', 'Kyrgyzstan', 'Laos', 'Latvia', 'Lebanon', 'Lesotho',\n",
       "       'Liberia', 'Libya', 'Lithuania', 'Low-income countries',\n",
       "       'Lower-middle-income countries', 'Luxembourg', 'Madagascar',\n",
       "       'Malawi', 'Malaysia', 'Maldives', 'Mali', 'Malta',\n",
       "       'Marshall Islands', 'Mauritania', 'Mauritius', 'Mexico',\n",
       "       'Micronesia (country)', 'Moldova', 'Monaco', 'Mongolia',\n",
       "       'Montenegro', 'Morocco', 'Mozambique', 'Myanmar', 'Namibia',\n",
       "       'Nauru', 'Nepal', 'Netherlands', 'New Zealand', 'Nicaragua',\n",
       "       'Niger', 'Nigeria', 'Niue', 'North Korea', 'North Macedonia',\n",
       "       'Northern Mariana Islands', 'Norway', 'Oman', 'Pakistan', 'Palau',\n",
       "       'Palestine', 'Panama', 'Papua New Guinea', 'Paraguay', 'Peru',\n",
       "       'Philippines', 'Poland', 'Portugal', 'Puerto Rico', 'Qatar',\n",
       "       'Romania', 'Russia', 'Rwanda', 'Saint Kitts and Nevis',\n",
       "       'Saint Lucia', 'Saint Vincent and the Grenadines', 'Samoa',\n",
       "       'San Marino', 'Sao Tome and Principe', 'Saudi Arabia', 'Senegal',\n",
       "       'Serbia', 'Seychelles', 'Sierra Leone', 'Singapore', 'Slovakia',\n",
       "       'Slovenia', 'Solomon Islands', 'Somalia', 'South Africa',\n",
       "       'South Korea', 'South Sudan', 'Spain', 'Sri Lanka', 'Sudan',\n",
       "       'Suriname', 'Sweden', 'Switzerland', 'Syria', 'Taiwan',\n",
       "       'Tajikistan', 'Tanzania', 'Thailand', 'Togo', 'Tokelau', 'Tonga',\n",
       "       'Trinidad and Tobago', 'Tunisia', 'Turkey', 'Turkmenistan',\n",
       "       'Tuvalu', 'Uganda', 'Ukraine', 'United Arab Emirates',\n",
       "       'United Kingdom', 'United States', 'United States Virgin Islands',\n",
       "       'Upper-middle-income countries', 'Uruguay', 'Uzbekistan',\n",
       "       'Vanuatu', 'Venezuela', 'Vietnam', 'World', 'Yemen', 'Zambia',\n",
       "       'Zimbabwe'], dtype=object)"
      ]
     },
     "execution_count": 61,
     "metadata": {},
     "output_type": "execute_result"
    }
   ],
   "source": [
    "unique_entities = df[\"Entity\"].unique() # Produces a NumPy array\n",
    "unique_entities"
   ]
  },
  {
   "cell_type": "code",
   "execution_count": 62,
   "metadata": {},
   "outputs": [
    {
     "data": {
      "text/plain": [
       "214"
      ]
     },
     "execution_count": 62,
     "metadata": {},
     "output_type": "execute_result"
    }
   ],
   "source": [
    "len(unique_entities)"
   ]
  },
  {
   "cell_type": "markdown",
   "metadata": {},
   "source": [
    "Another interesting operation, would be to know the distribution of the different values:"
   ]
  },
  {
   "cell_type": "code",
   "execution_count": 63,
   "metadata": {},
   "outputs": [
    {
     "data": {
      "text/plain": [
       "Entity\n",
       "Afghanistan                 30\n",
       "Netherlands                 30\n",
       "Nicaragua                   30\n",
       "Niger                       30\n",
       "Nigeria                     30\n",
       "Niue                        30\n",
       "North Korea                 30\n",
       "North Macedonia             30\n",
       "Northern Mariana Islands    30\n",
       "Norway                      30\n",
       "Name: count, dtype: int64"
      ]
     },
     "execution_count": 63,
     "metadata": {},
     "output_type": "execute_result"
    }
   ],
   "source": [
    "df[\"Entity\"].value_counts().iloc[:10]"
   ]
  },
  {
   "cell_type": "markdown",
   "metadata": {},
   "source": [
    "We can index the resulting Series with the .iloc, and then use regular Python indexing:"
   ]
  },
  {
   "cell_type": "code",
   "execution_count": 64,
   "metadata": {},
   "outputs": [
    {
     "data": {
      "text/plain": [
       "Index(['Entity', 'Year',\n",
       "       'Schizophrenia disorders (share of population) - Sex: Both - Age: Age-standardized',\n",
       "       'Depressive disorders (share of population) - Sex: Both - Age: Age-standardized',\n",
       "       'Anxiety disorders (share of population) - Sex: Both - Age: Age-standardized',\n",
       "       'Bipolar disorders (share of population) - Sex: Both - Age: Age-standardized',\n",
       "       'Eating disorders (share of population) - Sex: Both - Age: Age-standardized'],\n",
       "      dtype='object')"
      ]
     },
     "execution_count": 64,
     "metadata": {},
     "output_type": "execute_result"
    }
   ],
   "source": [
    "df.columns"
   ]
  },
  {
   "cell_type": "code",
   "execution_count": 65,
   "metadata": {},
   "outputs": [
    {
     "data": {
      "text/plain": [
       "Entity\n",
       "Afghanistan                 30\n",
       "Netherlands                 30\n",
       "Nicaragua                   30\n",
       "Niger                       30\n",
       "Nigeria                     30\n",
       "Niue                        30\n",
       "North Korea                 30\n",
       "North Macedonia             30\n",
       "Northern Mariana Islands    30\n",
       "Norway                      30\n",
       "Oman                        30\n",
       "Pakistan                    30\n",
       "Palau                       30\n",
       "Palestine                   30\n",
       "Panama                      30\n",
       "Name: count, dtype: int64"
      ]
     },
     "execution_count": 65,
     "metadata": {},
     "output_type": "execute_result"
    }
   ],
   "source": [
    "# Inspect the first 15 values\n",
    "df[\"Entity\"].value_counts().iloc[:15]"
   ]
  },
  {
   "cell_type": "markdown",
   "metadata": {},
   "source": [
    "We can test a condition over each row:"
   ]
  },
  {
   "cell_type": "code",
   "execution_count": 66,
   "metadata": {},
   "outputs": [],
   "source": [
    "anxiety_column = \"Anxiety disorders (share of population) - Sex: Both - Age: Age-standardized\""
   ]
  },
  {
   "cell_type": "code",
   "execution_count": 67,
   "metadata": {},
   "outputs": [
    {
     "data": {
      "text/plain": [
       "0       4.713314\n",
       "1       4.702100\n",
       "2       4.683743\n",
       "3       4.673549\n",
       "4       4.670810\n",
       "          ...   \n",
       "6415    3.184012\n",
       "6416    3.187148\n",
       "6417    3.188418\n",
       "6418    3.172111\n",
       "6419    3.137017\n",
       "Name: Anxiety disorders (share of population) - Sex: Both - Age: Age-standardized, Length: 6420, dtype: float64"
      ]
     },
     "execution_count": 67,
     "metadata": {},
     "output_type": "execute_result"
    }
   ],
   "source": [
    "df[anxiety_column] "
   ]
  },
  {
   "cell_type": "code",
   "execution_count": 68,
   "metadata": {},
   "outputs": [
    {
     "data": {
      "text/plain": [
       "0        True\n",
       "1        True\n",
       "2        True\n",
       "3        True\n",
       "4        True\n",
       "        ...  \n",
       "6415    False\n",
       "6416    False\n",
       "6417    False\n",
       "6418    False\n",
       "6419    False\n",
       "Name: Anxiety disorders (share of population) - Sex: Both - Age: Age-standardized, Length: 6420, dtype: bool"
      ]
     },
     "execution_count": 68,
     "metadata": {},
     "output_type": "execute_result"
    }
   ],
   "source": [
    "df[anxiety_column] > 4"
   ]
  },
  {
   "cell_type": "markdown",
   "metadata": {},
   "source": [
    "This condition can be used to index the DataFrame, and obtain the rows for which the condition is True:"
   ]
  },
  {
   "cell_type": "code",
   "execution_count": 69,
   "metadata": {},
   "outputs": [
    {
     "data": {
      "text/html": [
       "<div>\n",
       "<style scoped>\n",
       "    .dataframe tbody tr th:only-of-type {\n",
       "        vertical-align: middle;\n",
       "    }\n",
       "\n",
       "    .dataframe tbody tr th {\n",
       "        vertical-align: top;\n",
       "    }\n",
       "\n",
       "    .dataframe thead th {\n",
       "        text-align: right;\n",
       "    }\n",
       "</style>\n",
       "<table border=\"1\" class=\"dataframe\">\n",
       "  <thead>\n",
       "    <tr style=\"text-align: right;\">\n",
       "      <th></th>\n",
       "      <th>Entity</th>\n",
       "      <th>Year</th>\n",
       "      <th>Schizophrenia disorders (share of population) - Sex: Both - Age: Age-standardized</th>\n",
       "      <th>Depressive disorders (share of population) - Sex: Both - Age: Age-standardized</th>\n",
       "      <th>Anxiety disorders (share of population) - Sex: Both - Age: Age-standardized</th>\n",
       "      <th>Bipolar disorders (share of population) - Sex: Both - Age: Age-standardized</th>\n",
       "      <th>Eating disorders (share of population) - Sex: Both - Age: Age-standardized</th>\n",
       "    </tr>\n",
       "  </thead>\n",
       "  <tbody>\n",
       "    <tr>\n",
       "      <th>0</th>\n",
       "      <td>Afghanistan</td>\n",
       "      <td>1990</td>\n",
       "      <td>0.223206</td>\n",
       "      <td>4.996118</td>\n",
       "      <td>4.713314</td>\n",
       "      <td>0.703023</td>\n",
       "      <td>0.127700</td>\n",
       "    </tr>\n",
       "    <tr>\n",
       "      <th>1</th>\n",
       "      <td>Afghanistan</td>\n",
       "      <td>1991</td>\n",
       "      <td>0.222454</td>\n",
       "      <td>4.989290</td>\n",
       "      <td>4.702100</td>\n",
       "      <td>0.702069</td>\n",
       "      <td>0.123256</td>\n",
       "    </tr>\n",
       "    <tr>\n",
       "      <th>2</th>\n",
       "      <td>Afghanistan</td>\n",
       "      <td>1992</td>\n",
       "      <td>0.221751</td>\n",
       "      <td>4.981346</td>\n",
       "      <td>4.683743</td>\n",
       "      <td>0.700792</td>\n",
       "      <td>0.118844</td>\n",
       "    </tr>\n",
       "    <tr>\n",
       "      <th>3</th>\n",
       "      <td>Afghanistan</td>\n",
       "      <td>1993</td>\n",
       "      <td>0.220987</td>\n",
       "      <td>4.976958</td>\n",
       "      <td>4.673549</td>\n",
       "      <td>0.700087</td>\n",
       "      <td>0.115089</td>\n",
       "    </tr>\n",
       "    <tr>\n",
       "      <th>4</th>\n",
       "      <td>Afghanistan</td>\n",
       "      <td>1994</td>\n",
       "      <td>0.220183</td>\n",
       "      <td>4.977782</td>\n",
       "      <td>4.670810</td>\n",
       "      <td>0.699898</td>\n",
       "      <td>0.111815</td>\n",
       "    </tr>\n",
       "    <tr>\n",
       "      <th>...</th>\n",
       "      <td>...</td>\n",
       "      <td>...</td>\n",
       "      <td>...</td>\n",
       "      <td>...</td>\n",
       "      <td>...</td>\n",
       "      <td>...</td>\n",
       "      <td>...</td>\n",
       "    </tr>\n",
       "    <tr>\n",
       "      <th>6355</th>\n",
       "      <td>Yemen</td>\n",
       "      <td>2015</td>\n",
       "      <td>0.229845</td>\n",
       "      <td>4.892351</td>\n",
       "      <td>4.778325</td>\n",
       "      <td>0.725891</td>\n",
       "      <td>0.140348</td>\n",
       "    </tr>\n",
       "    <tr>\n",
       "      <th>6356</th>\n",
       "      <td>Yemen</td>\n",
       "      <td>2016</td>\n",
       "      <td>0.228970</td>\n",
       "      <td>4.884568</td>\n",
       "      <td>4.767840</td>\n",
       "      <td>0.725918</td>\n",
       "      <td>0.136837</td>\n",
       "    </tr>\n",
       "    <tr>\n",
       "      <th>6357</th>\n",
       "      <td>Yemen</td>\n",
       "      <td>2017</td>\n",
       "      <td>0.227927</td>\n",
       "      <td>4.874499</td>\n",
       "      <td>4.758836</td>\n",
       "      <td>0.725949</td>\n",
       "      <td>0.132334</td>\n",
       "    </tr>\n",
       "    <tr>\n",
       "      <th>6358</th>\n",
       "      <td>Yemen</td>\n",
       "      <td>2018</td>\n",
       "      <td>0.226961</td>\n",
       "      <td>4.880210</td>\n",
       "      <td>4.765439</td>\n",
       "      <td>0.725967</td>\n",
       "      <td>0.127744</td>\n",
       "    </tr>\n",
       "    <tr>\n",
       "      <th>6359</th>\n",
       "      <td>Yemen</td>\n",
       "      <td>2019</td>\n",
       "      <td>0.225680</td>\n",
       "      <td>4.895368</td>\n",
       "      <td>4.783716</td>\n",
       "      <td>0.725980</td>\n",
       "      <td>0.123512</td>\n",
       "    </tr>\n",
       "  </tbody>\n",
       "</table>\n",
       "<p>2859 rows × 7 columns</p>\n",
       "</div>"
      ],
      "text/plain": [
       "           Entity  Year  \\\n",
       "0     Afghanistan  1990   \n",
       "1     Afghanistan  1991   \n",
       "2     Afghanistan  1992   \n",
       "3     Afghanistan  1993   \n",
       "4     Afghanistan  1994   \n",
       "...           ...   ...   \n",
       "6355        Yemen  2015   \n",
       "6356        Yemen  2016   \n",
       "6357        Yemen  2017   \n",
       "6358        Yemen  2018   \n",
       "6359        Yemen  2019   \n",
       "\n",
       "      Schizophrenia disorders (share of population) - Sex: Both - Age: Age-standardized  \\\n",
       "0                                              0.223206                                   \n",
       "1                                              0.222454                                   \n",
       "2                                              0.221751                                   \n",
       "3                                              0.220987                                   \n",
       "4                                              0.220183                                   \n",
       "...                                                 ...                                   \n",
       "6355                                           0.229845                                   \n",
       "6356                                           0.228970                                   \n",
       "6357                                           0.227927                                   \n",
       "6358                                           0.226961                                   \n",
       "6359                                           0.225680                                   \n",
       "\n",
       "      Depressive disorders (share of population) - Sex: Both - Age: Age-standardized  \\\n",
       "0                                              4.996118                                \n",
       "1                                              4.989290                                \n",
       "2                                              4.981346                                \n",
       "3                                              4.976958                                \n",
       "4                                              4.977782                                \n",
       "...                                                 ...                                \n",
       "6355                                           4.892351                                \n",
       "6356                                           4.884568                                \n",
       "6357                                           4.874499                                \n",
       "6358                                           4.880210                                \n",
       "6359                                           4.895368                                \n",
       "\n",
       "      Anxiety disorders (share of population) - Sex: Both - Age: Age-standardized  \\\n",
       "0                                              4.713314                             \n",
       "1                                              4.702100                             \n",
       "2                                              4.683743                             \n",
       "3                                              4.673549                             \n",
       "4                                              4.670810                             \n",
       "...                                                 ...                             \n",
       "6355                                           4.778325                             \n",
       "6356                                           4.767840                             \n",
       "6357                                           4.758836                             \n",
       "6358                                           4.765439                             \n",
       "6359                                           4.783716                             \n",
       "\n",
       "      Bipolar disorders (share of population) - Sex: Both - Age: Age-standardized  \\\n",
       "0                                              0.703023                             \n",
       "1                                              0.702069                             \n",
       "2                                              0.700792                             \n",
       "3                                              0.700087                             \n",
       "4                                              0.699898                             \n",
       "...                                                 ...                             \n",
       "6355                                           0.725891                             \n",
       "6356                                           0.725918                             \n",
       "6357                                           0.725949                             \n",
       "6358                                           0.725967                             \n",
       "6359                                           0.725980                             \n",
       "\n",
       "      Eating disorders (share of population) - Sex: Both - Age: Age-standardized  \n",
       "0                                              0.127700                           \n",
       "1                                              0.123256                           \n",
       "2                                              0.118844                           \n",
       "3                                              0.115089                           \n",
       "4                                              0.111815                           \n",
       "...                                                 ...                           \n",
       "6355                                           0.140348                           \n",
       "6356                                           0.136837                           \n",
       "6357                                           0.132334                           \n",
       "6358                                           0.127744                           \n",
       "6359                                           0.123512                           \n",
       "\n",
       "[2859 rows x 7 columns]"
      ]
     },
     "execution_count": 69,
     "metadata": {},
     "output_type": "execute_result"
    }
   ],
   "source": [
    "df[df[anxiety_column] > 4]"
   ]
  },
  {
   "cell_type": "markdown",
   "metadata": {},
   "source": [
    "If you wanted to do the same, but keep only a subset of the columns, we could used the .loc indexing:"
   ]
  },
  {
   "cell_type": "code",
   "execution_count": 70,
   "metadata": {},
   "outputs": [
    {
     "data": {
      "text/html": [
       "<div>\n",
       "<style scoped>\n",
       "    .dataframe tbody tr th:only-of-type {\n",
       "        vertical-align: middle;\n",
       "    }\n",
       "\n",
       "    .dataframe tbody tr th {\n",
       "        vertical-align: top;\n",
       "    }\n",
       "\n",
       "    .dataframe thead th {\n",
       "        text-align: right;\n",
       "    }\n",
       "</style>\n",
       "<table border=\"1\" class=\"dataframe\">\n",
       "  <thead>\n",
       "    <tr style=\"text-align: right;\">\n",
       "      <th></th>\n",
       "      <th>Entity</th>\n",
       "      <th>Year</th>\n",
       "    </tr>\n",
       "  </thead>\n",
       "  <tbody>\n",
       "    <tr>\n",
       "      <th>0</th>\n",
       "      <td>Afghanistan</td>\n",
       "      <td>1990</td>\n",
       "    </tr>\n",
       "    <tr>\n",
       "      <th>1</th>\n",
       "      <td>Afghanistan</td>\n",
       "      <td>1991</td>\n",
       "    </tr>\n",
       "    <tr>\n",
       "      <th>2</th>\n",
       "      <td>Afghanistan</td>\n",
       "      <td>1992</td>\n",
       "    </tr>\n",
       "    <tr>\n",
       "      <th>3</th>\n",
       "      <td>Afghanistan</td>\n",
       "      <td>1993</td>\n",
       "    </tr>\n",
       "    <tr>\n",
       "      <th>4</th>\n",
       "      <td>Afghanistan</td>\n",
       "      <td>1994</td>\n",
       "    </tr>\n",
       "    <tr>\n",
       "      <th>...</th>\n",
       "      <td>...</td>\n",
       "      <td>...</td>\n",
       "    </tr>\n",
       "    <tr>\n",
       "      <th>6355</th>\n",
       "      <td>Yemen</td>\n",
       "      <td>2015</td>\n",
       "    </tr>\n",
       "    <tr>\n",
       "      <th>6356</th>\n",
       "      <td>Yemen</td>\n",
       "      <td>2016</td>\n",
       "    </tr>\n",
       "    <tr>\n",
       "      <th>6357</th>\n",
       "      <td>Yemen</td>\n",
       "      <td>2017</td>\n",
       "    </tr>\n",
       "    <tr>\n",
       "      <th>6358</th>\n",
       "      <td>Yemen</td>\n",
       "      <td>2018</td>\n",
       "    </tr>\n",
       "    <tr>\n",
       "      <th>6359</th>\n",
       "      <td>Yemen</td>\n",
       "      <td>2019</td>\n",
       "    </tr>\n",
       "  </tbody>\n",
       "</table>\n",
       "<p>2859 rows × 2 columns</p>\n",
       "</div>"
      ],
      "text/plain": [
       "           Entity  Year\n",
       "0     Afghanistan  1990\n",
       "1     Afghanistan  1991\n",
       "2     Afghanistan  1992\n",
       "3     Afghanistan  1993\n",
       "4     Afghanistan  1994\n",
       "...           ...   ...\n",
       "6355        Yemen  2015\n",
       "6356        Yemen  2016\n",
       "6357        Yemen  2017\n",
       "6358        Yemen  2018\n",
       "6359        Yemen  2019\n",
       "\n",
       "[2859 rows x 2 columns]"
      ]
     },
     "execution_count": 70,
     "metadata": {},
     "output_type": "execute_result"
    }
   ],
   "source": [
    "df.loc[df[anxiety_column] > 4, [\"Entity\", \"Year\"]]"
   ]
  },
  {
   "cell_type": "markdown",
   "metadata": {},
   "source": [
    "## Exercises"
   ]
  },
  {
   "cell_type": "markdown",
   "metadata": {},
   "source": [
    "### Ex 1 - Descriptive statistics of the column Year\n",
    "\n",
    "Analyze the column the Year's distribution. What is its range, mean and std?"
   ]
  },
  {
   "cell_type": "code",
   "execution_count": 71,
   "metadata": {},
   "outputs": [
    {
     "data": {
      "text/plain": [
       "count    6420.000000\n",
       "mean     2004.500000\n",
       "std         8.656116\n",
       "min      1990.000000\n",
       "25%      1997.000000\n",
       "50%      2004.500000\n",
       "75%      2012.000000\n",
       "max      2019.000000\n",
       "Name: Year, dtype: float64"
      ]
     },
     "execution_count": 71,
     "metadata": {},
     "output_type": "execute_result"
    }
   ],
   "source": [
    "df[\"Year\"].describe()"
   ]
  },
  {
   "cell_type": "markdown",
   "metadata": {},
   "source": [
    "Obtain the distribution of the column Year. \n",
    "Comment on the dataset balance, based on the number of samples per year."
   ]
  },
  {
   "cell_type": "code",
   "execution_count": 72,
   "metadata": {},
   "outputs": [
    {
     "data": {
      "text/plain": [
       "Year\n",
       "1990    214\n",
       "1991    214\n",
       "2018    214\n",
       "2017    214\n",
       "2016    214\n",
       "2015    214\n",
       "2014    214\n",
       "2013    214\n",
       "2012    214\n",
       "2011    214\n",
       "2010    214\n",
       "2009    214\n",
       "2008    214\n",
       "2007    214\n",
       "2006    214\n",
       "2005    214\n",
       "2004    214\n",
       "2003    214\n",
       "2002    214\n",
       "2001    214\n",
       "2000    214\n",
       "1999    214\n",
       "1998    214\n",
       "1997    214\n",
       "1996    214\n",
       "1995    214\n",
       "1994    214\n",
       "1993    214\n",
       "1992    214\n",
       "2019    214\n",
       "Name: count, dtype: int64"
      ]
     },
     "execution_count": 72,
     "metadata": {},
     "output_type": "execute_result"
    }
   ],
   "source": [
    "df[\"Year\"].value_counts()"
   ]
  },
  {
   "cell_type": "markdown",
   "metadata": {},
   "source": [
    "### Ex 2 - Compute the correlation between two columns\n",
    "\n",
    "Use the function `DataFrame.corr` to find the Pearson correlation between all pairs of following columns:\n",
    "\n",
    "* Schizophrenia disorders (share of population) - Sex: Both - Age: Age-standardized\n",
    "* Depressive disorders (share of population) - Sex: Both - Age: Age-standardized\n",
    "* Anxiety disorders (share of population) - Sex: Both - Age: Age-standardized\n",
    "* Bipolar disorders (share of population) - Sex: Both - Age: Age-standardized\n",
    "* Eating disorders (share of population) - Sex: Both - Age: Age-standardized\n",
    "\n",
    "Comment on the obtained results."
   ]
  },
  {
   "cell_type": "code",
   "execution_count": 73,
   "metadata": {},
   "outputs": [
    {
     "data": {
      "text/plain": [
       "-0.4749936266867936"
      ]
     },
     "execution_count": 73,
     "metadata": {},
     "output_type": "execute_result"
    }
   ],
   "source": [
    "df[\"Schizophrenia disorders (share of population) - Sex: Both - Age: Age-standardized\"].corr(\n",
    "                    df['Depressive disorders (share of population) - Sex: Both - Age: Age-standardized'])"
   ]
  },
  {
   "cell_type": "code",
   "execution_count": 74,
   "metadata": {},
   "outputs": [
    {
     "name": "stdout",
     "output_type": "stream",
     "text": [
      "Correlations between columns:\n",
      "\t- Depressive disorders (share of population) - Sex: Both - Age: Age-standardized\n",
      "\t- Anxiety disorders (share of population) - Sex: Both - Age: Age-standardized\n",
      "\t- Correlation: 0.1144288981493943\n",
      "\n",
      "Correlations between columns:\n",
      "\t- Depressive disorders (share of population) - Sex: Both - Age: Age-standardized\n",
      "\t- Bipolar disorders (share of population) - Sex: Both - Age: Age-standardized\n",
      "\t- Correlation: 0.15303927851123564\n",
      "\n",
      "Correlations between columns:\n",
      "\t- Depressive disorders (share of population) - Sex: Both - Age: Age-standardized\n",
      "\t- Eating disorders (share of population) - Sex: Both - Age: Age-standardized\n",
      "\t- Correlation: -0.05206717118327932\n",
      "\n",
      "Correlations between columns:\n",
      "\t- Anxiety disorders (share of population) - Sex: Both - Age: Age-standardized\n",
      "\t- Bipolar disorders (share of population) - Sex: Both - Age: Age-standardized\n",
      "\t- Correlation: 0.5762304503027424\n",
      "\n",
      "Correlations between columns:\n",
      "\t- Anxiety disorders (share of population) - Sex: Both - Age: Age-standardized\n",
      "\t- Eating disorders (share of population) - Sex: Both - Age: Age-standardized\n",
      "\t- Correlation: 0.59451146216514\n",
      "\n",
      "Correlations between columns:\n",
      "\t- Bipolar disorders (share of population) - Sex: Both - Age: Age-standardized\n",
      "\t- Eating disorders (share of population) - Sex: Both - Age: Age-standardized\n",
      "\t- Correlation: 0.6779269937359104\n",
      "\n"
     ]
    }
   ],
   "source": [
    "import itertools\n",
    "\n",
    "subset_columns = df.columns[3:]\n",
    "for col1_i, col2_i in itertools.combinations(range(len(subset_columns)), 2):\n",
    "    col1, col2 = subset_columns[col1_i], subset_columns[col2_i]\n",
    "    correlation = df[col1].corr(df[col2])\n",
    "    print(f\"Correlations between columns:\\n\\t- {col1}\\n\\t- {col2}\\n\\t- Correlation: {correlation}\")\n",
    "    print()"
   ]
  },
  {
   "cell_type": "markdown",
   "metadata": {},
   "source": [
    "## Exercise 3 - Find the country with highest rate of Anxiety disorder\n",
    "\n",
    "Hint: The function .max() can be used to find the maximum value of a column. The function .argmax() gives you the index of that maximum value."
   ]
  },
  {
   "cell_type": "code",
   "execution_count": 75,
   "metadata": {},
   "outputs": [],
   "source": [
    "imax = df[\"Anxiety disorders (share of population) - Sex: Both - Age: Age-standardized\"].argmax()"
   ]
  },
  {
   "cell_type": "code",
   "execution_count": 76,
   "metadata": {},
   "outputs": [
    {
     "data": {
      "text/plain": [
       "Entity                                                                                 Brazil\n",
       "Year                                                                                     2006\n",
       "Schizophrenia disorders (share of population) - Sex: Both - Age: Age-standardized    0.275419\n",
       "Depressive disorders (share of population) - Sex: Both - Age: Age-standardized       4.467471\n",
       "Anxiety disorders (share of population) - Sex: Both - Age: Age-standardized          8.624634\n",
       "Bipolar disorders (share of population) - Sex: Both - Age: Age-standardized          1.112257\n",
       "Eating disorders (share of population) - Sex: Both - Age: Age-standardized           0.211118\n",
       "Name: 856, dtype: object"
      ]
     },
     "execution_count": 76,
     "metadata": {},
     "output_type": "execute_result"
    }
   ],
   "source": [
    "df.iloc[imax]"
   ]
  },
  {
   "cell_type": "markdown",
   "metadata": {},
   "source": [
    "## Exercise 4 - Remove outliers\n",
    "\n",
    "Removing outliers is a critical step when processing data.\n",
    "\n",
    "1. Pick one of the quantitative columns that represent a share of the population.\n",
    "2. Define an outlier as any value x, that is above two standard deviations.\n",
    "3. Remove all rows in which their corresponding values, exceed two standard deviations. \n",
    "4. Re-compute all the descriptive statistics over that column and compare the differences.\n",
    "\n",
    "Hint: In indexing, you can combine more than one condition (e.g. `df[(df[\"column\"] > a) & (df[\"column\"] < b)]`)."
   ]
  },
  {
   "cell_type": "code",
   "execution_count": 77,
   "metadata": {},
   "outputs": [
    {
     "name": "stdout",
     "output_type": "stream",
     "text": [
      "4.101839659922118 1.0505430995124705 6.202925858947059 2.000753460897177\n"
     ]
    }
   ],
   "source": [
    "# Your code goes here\n",
    "column_name = \"Anxiety disorders (share of population) - Sex: Both - Age: Age-standardized\"\n",
    "df_column = df[column_name]\n",
    "mean_column = df_column.mean()\n",
    "std_column = df_column.std()\n",
    "threshold_upper = mean_column + 2 * std_column\n",
    "threshold_lower = mean_column - 2 * std_column\n",
    "\n",
    "print(mean_column, std_column, threshold_upper, threshold_lower)"
   ]
  },
  {
   "cell_type": "code",
   "execution_count": 78,
   "metadata": {},
   "outputs": [],
   "source": [
    "df_no_outliers = df[ (df[column_name] >= threshold_lower) & (df[column_name] <= threshold_upper) ]"
   ]
  },
  {
   "cell_type": "code",
   "execution_count": 79,
   "metadata": {},
   "outputs": [
    {
     "data": {
      "text/plain": [
       "0       4.713314\n",
       "1       4.702100\n",
       "2       4.683743\n",
       "3       4.673549\n",
       "4       4.670810\n",
       "          ...   \n",
       "6415    3.184012\n",
       "6416    3.187148\n",
       "6417    3.188418\n",
       "6418    3.172111\n",
       "6419    3.137017\n",
       "Name: Anxiety disorders (share of population) - Sex: Both - Age: Age-standardized, Length: 6059, dtype: float64"
      ]
     },
     "execution_count": 79,
     "metadata": {},
     "output_type": "execute_result"
    }
   ],
   "source": [
    "df_no_outliers[column_name]"
   ]
  },
  {
   "cell_type": "code",
   "execution_count": 80,
   "metadata": {},
   "outputs": [
    {
     "data": {
      "text/plain": [
       "(6420, 6059)"
      ]
     },
     "execution_count": 80,
     "metadata": {},
     "output_type": "execute_result"
    }
   ],
   "source": [
    "len(df), len(df_no_outliers)"
   ]
  },
  {
   "cell_type": "code",
   "execution_count": null,
   "metadata": {},
   "outputs": [],
   "source": []
  }
 ],
 "metadata": {
  "kernelspec": {
   "display_name": "Python 3",
   "language": "python",
   "name": "python3"
  },
  "language_info": {
   "codemirror_mode": {
    "name": "ipython",
    "version": 3
   },
   "file_extension": ".py",
   "mimetype": "text/x-python",
   "name": "python",
   "nbconvert_exporter": "python",
   "pygments_lexer": "ipython3",
   "version": "3.12.5"
  }
 },
 "nbformat": 4,
 "nbformat_minor": 4
}
